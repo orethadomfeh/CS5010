{
 "cells": [
  {
   "cell_type": "markdown",
   "metadata": {},
   "source": [
    "Start a Jupyter notebook and do the following:\n",
    "\n",
    "    1. Print your name on terminal.\n",
    "    2. print your working directory.\n",
    "    3. Set your working dir to your home dir with three different commands.\n",
    "    4. change your directory to the directory of your Jupyter notebook.\n",
    "    5. Use `touch` to make a txt file and write `hello world` in that file using output redirection: `>`. Append, your name by `>>`.\n",
    "    6. show the contents of the file on the screen (use the address of the file  \n",
    "    7. apply commands `wc` and `cat` on your txt file and explain what they do (if your txt file is big use `less` instead of `cat`).\n",
    "    8. use `curl` to download a dataset from the web.\n",
    "    make a new folder inside your current directory and cd in that directory and move the downloaded file to this new directory.\n",
    "    9. Apply `head -n 5 {}` to a print the first 5 lines of your file (`tail` is similar). \n",
    "    10. Since you know how to use git; write a bash command where you commit the changes in your code with a comment and then push it to a remote Github repository."
   ]
  },
  {
   "cell_type": "code",
   "execution_count": 1,
   "metadata": {},
   "outputs": [
    {
     "name": "stdout",
     "output_type": "stream",
     "text": [
      "Oretha Domfeh\n"
     ]
    }
   ],
   "source": [
    "#Print your name on terminal.\n",
    "!echo \"Oretha Domfeh\""
   ]
  },
  {
   "cell_type": "code",
   "execution_count": 14,
   "metadata": {
    "collapsed": true,
    "jupyter": {
     "outputs_hidden": true
    }
   },
   "outputs": [
    {
     "name": "stdout",
     "output_type": "stream",
     "text": [
      "Oretha Domfeh\n"
     ]
    }
   ],
   "source": [
    "#Print your name on terminal.\n",
    "#py_string = \"Oretha Domfeh\"\n",
    "\n",
    "#!echo {py_string}"
   ]
  },
  {
   "cell_type": "code",
   "execution_count": 2,
   "metadata": {},
   "outputs": [
    {
     "name": "stdout",
     "output_type": "stream",
     "text": [
      "/Users/orethadomfeh/Desktop\n"
     ]
    }
   ],
   "source": [
    "# print your working directory.\n",
    "!pwd"
   ]
  },
  {
   "cell_type": "code",
   "execution_count": 3,
   "metadata": {},
   "outputs": [
    {
     "name": "stdout",
     "output_type": "stream",
     "text": [
      "/Users/orethadomfeh\n"
     ]
    }
   ],
   "source": [
    "#Set your working dir to your home dir with three different commands. first way \n",
    "%cd "
   ]
  },
  {
   "cell_type": "code",
   "execution_count": 4,
   "metadata": {},
   "outputs": [
    {
     "name": "stdout",
     "output_type": "stream",
     "text": [
      "/Users/orethadomfeh\n"
     ]
    }
   ],
   "source": [
    "##Set your working dir to your home dir with three different commands. second way \n",
    "%cd /Users/orethadomfeh"
   ]
  },
  {
   "cell_type": "code",
   "execution_count": 47,
   "metadata": {},
   "outputs": [
    {
     "name": "stdout",
     "output_type": "stream",
     "text": [
      "/Users/orethadomfeh\n"
     ]
    }
   ],
   "source": [
    "##Set your working dir to your home dir with three different commands. third way \n",
    "cd"
   ]
  },
  {
   "cell_type": "code",
   "execution_count": 48,
   "metadata": {},
   "outputs": [
    {
     "name": "stdout",
     "output_type": "stream",
     "text": [
      "/Users/orethadomfeh\n"
     ]
    }
   ],
   "source": [
    "##Set your working dir to your home dir with three different commands. fourth way \n",
    "cd~"
   ]
  },
  {
   "cell_type": "code",
   "execution_count": 48,
   "metadata": {},
   "outputs": [
    {
     "name": "stdout",
     "output_type": "stream",
     "text": [
      "/Users/orethadomfeh/Desktop\n"
     ]
    }
   ],
   "source": [
    "#change your directory to the directory of your Jupyter notebook.\n",
    "%cd /Users/orethadomfeh/Desktop"
   ]
  },
  {
   "cell_type": "code",
   "execution_count": 6,
   "metadata": {},
   "outputs": [
    {
     "name": "stdout",
     "output_type": "stream",
     "text": [
      "hello world\n",
      "Oretha Domfeh\n"
     ]
    }
   ],
   "source": [
    "# 5. Use `touch` to make a txt file and write `hello world` in that file using output redirection: `>`. Append, your name by `>>`.\n",
    "!touch tmp.txt\n",
    "!echo 'hello world'> tmp.txt\n",
    "!echo 'Oretha Domfeh'>>tmp.txt\n",
    "!cat tmp.txt"
   ]
  },
  {
   "cell_type": "code",
   "execution_count": 7,
   "metadata": {},
   "outputs": [
    {
     "name": "stdout",
     "output_type": "stream",
     "text": [
      "hello world\n",
      "Oretha Domfeh\n"
     ]
    }
   ],
   "source": [
    "#show the contents of the file on the screen (use the address of the file  \n",
    "!cat tmp.txt "
   ]
  },
  {
   "cell_type": "code",
   "execution_count": 8,
   "metadata": {},
   "outputs": [
    {
     "name": "stdout",
     "output_type": "stream",
     "text": [
      "       2       4      26 tmp.txt\n"
     ]
    }
   ],
   "source": [
    "#apply commands `wc` and `cat` on your txt file and explain what they do (if your txt file is big use `less` instead of `cat`)\n",
    "!wc tmp.txt\n",
    "\n",
    "#wc returns the lines, word, character count of your file\n",
    "#cat returns the contents of your file and it can also concatinate two text files "
   ]
  },
  {
   "cell_type": "code",
   "execution_count": 9,
   "metadata": {},
   "outputs": [
    {
     "name": "stdout",
     "output_type": "stream",
     "text": [
      "  % Total    % Received % Xferd  Average Speed   Time    Time     Time  Current\n",
      "                                 Dload  Upload   Total   Spent    Left  Speed\n",
      "100 30286  100 30286    0     0   129k      0 --:--:-- --:--:-- --:--:--  128k\n"
     ]
    }
   ],
   "source": [
    "#8.use `curl` to download a dataset from the web.\n",
    "!curl http://archive.ics.uci.edu/ml/machine-learning-databases/auto-mpg/auto-mpg.data > auto.txt"
   ]
  },
  {
   "cell_type": "code",
   "execution_count": 10,
   "metadata": {},
   "outputs": [
    {
     "name": "stdout",
     "output_type": "stream",
     "text": [
      "18.0   8   307.0      130.0      3504.      12.0   70  1\t\"chevrolet chevelle malibu\"\n",
      "15.0   8   350.0      165.0      3693.      11.5   70  1\t\"buick skylark 320\"\n",
      "18.0   8   318.0      150.0      3436.      11.0   70  1\t\"plymouth satellite\"\n",
      "16.0   8   304.0      150.0      3433.      12.0   70  1\t\"amc rebel sst\"\n",
      "17.0   8   302.0      140.0      3449.      10.5   70  1\t\"ford torino\"\n"
     ]
    }
   ],
   "source": [
    "#9.Apply `head -n 5 {}` to a print the first 5 lines of your file (`tail` is similar). \n",
    "!head -n 5 auto.txt"
   ]
  },
  {
   "cell_type": "code",
   "execution_count": 37,
   "metadata": {
    "collapsed": true,
    "jupyter": {
     "outputs_hidden": true
    }
   },
   "outputs": [
    {
     "name": "stdout",
     "output_type": "stream",
     "text": [
      "usage: git config [<options>]\n",
      "\n",
      "Config file location\n",
      "    --global              use global config file\n",
      "    --system              use system config file\n",
      "    --local               use repository config file\n",
      "    -f, --file <file>     use given config file\n",
      "    --blob <blob-id>      read config from given blob object\n",
      "\n",
      "Action\n",
      "    --get                 get value: name [value-regex]\n",
      "    --get-all             get all values: key [value-regex]\n",
      "    --get-regexp          get values for regexp: name-regex [value-regex]\n",
      "    --get-urlmatch        get value specific for the URL: section[.var] URL\n",
      "    --replace-all         replace all matching variables: name value [value_regex]\n",
      "    --add                 add a new variable: name value\n",
      "    --unset               remove a variable: name [value-regex]\n",
      "    --unset-all           remove all matches: name [value-regex]\n",
      "    --rename-section      rename section: old-name new-name\n",
      "    --remove-section      remove a section: name\n",
      "    -l, --list            list all\n",
      "    -e, --edit            open an editor\n",
      "    --get-color           find the color configured: slot [default]\n",
      "    --get-colorbool       find the color setting: slot [stdout-is-tty]\n",
      "\n",
      "Type\n",
      "    --bool                value is \"true\" or \"false\"\n",
      "    --int                 value is decimal number\n",
      "    --bool-or-int         value is --bool or --int\n",
      "    --path                value is a path (file or directory name)\n",
      "\n",
      "Other\n",
      "    -z, --null            terminate values with NUL byte\n",
      "    --name-only           show variable names only\n",
      "    --includes            respect include directives on lookup\n",
      "    --show-origin         show origin of config (file, standard input, blob, command line)\n",
      "\n"
     ]
    }
   ],
   "source": [
    "!git config - global user.name \"orethadomfeh\" #confiures the ability to talk to the github account"
   ]
  },
  {
   "cell_type": "code",
   "execution_count": 9,
   "metadata": {},
   "outputs": [
    {
     "name": "stdout",
     "output_type": "stream",
     "text": [
      "/bin/sh: line 0: cd: Desktop: Not a directory\n"
     ]
    }
   ],
   "source": [
    "!cd Desktop"
   ]
  },
  {
   "cell_type": "code",
   "execution_count": 8,
   "metadata": {},
   "outputs": [
    {
     "name": "stdout",
     "output_type": "stream",
     "text": [
      "/Users/orethadomfeh/Desktop\n"
     ]
    }
   ],
   "source": [
    "!"
   ]
  },
  {
   "cell_type": "code",
   "execution_count": 10,
   "metadata": {},
   "outputs": [
    {
     "name": "stdout",
     "output_type": "stream",
     "text": [
      "fatal: Not a git repository (or any of the parent directories): .git\n"
     ]
    }
   ],
   "source": [
    "!git add . "
   ]
  },
  {
   "cell_type": "code",
   "execution_count": 40,
   "metadata": {},
   "outputs": [
    {
     "name": "stdout",
     "output_type": "stream",
     "text": [
      "fatal: Not a git repository (or any of the parent directories): .git\n",
      "fatal: Not a git repository (or any of the parent directories): .git\n",
      "fatal: Not a git repository (or any of the parent directories): .git\n"
     ]
    }
   ],
   "source": [
    "!git pull\n",
    "!git commit -m \"unix exercise\"\n",
    "!git push"
   ]
  },
  {
   "cell_type": "code",
   "execution_count": 41,
   "metadata": {},
   "outputs": [
    {
     "name": "stdout",
     "output_type": "stream",
     "text": [
      "fatal: Not a git repository (or any of the parent directories): .git\n"
     ]
    }
   ],
   "source": [
    "!git add auto.txt"
   ]
  },
  {
   "cell_type": "code",
   "execution_count": 42,
   "metadata": {},
   "outputs": [
    {
     "name": "stdout",
     "output_type": "stream",
     "text": [
      "fatal: Not a git repository (or any of the parent directories): .git\n"
     ]
    }
   ],
   "source": [
    "!git commit -m 'update document with comments'"
   ]
  },
  {
   "cell_type": "raw",
   "metadata": {},
   "source": [
    "#10. Since you know how to use git; write a bash command where you commit the changes in your code with a comment and then push it to a remote Github repository.\n",
    "!git clone https://github.com/orethadomfeh/CS5010"
   ]
  }
 ],
 "metadata": {
  "kernelspec": {
   "display_name": "Python 3",
   "language": "python",
   "name": "python3"
  },
  "language_info": {
   "codemirror_mode": {
    "name": "ipython",
    "version": 3
   },
   "file_extension": ".py",
   "mimetype": "text/x-python",
   "name": "python",
   "nbconvert_exporter": "python",
   "pygments_lexer": "ipython3",
   "version": "3.7.4"
  }
 },
 "nbformat": 4,
 "nbformat_minor": 4
}
